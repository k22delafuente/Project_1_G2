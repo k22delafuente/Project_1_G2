{
 "cells": [
  {
   "cell_type": "code",
   "execution_count": 1,
   "metadata": {},
   "outputs": [
    {
     "data": {
      "text/html": [
       "<div>\n",
       "<style scoped>\n",
       "    .dataframe tbody tr th:only-of-type {\n",
       "        vertical-align: middle;\n",
       "    }\n",
       "\n",
       "    .dataframe tbody tr th {\n",
       "        vertical-align: top;\n",
       "    }\n",
       "\n",
       "    .dataframe thead th {\n",
       "        text-align: right;\n",
       "    }\n",
       "</style>\n",
       "<table border=\"1\" class=\"dataframe\">\n",
       "  <thead>\n",
       "    <tr style=\"text-align: right;\">\n",
       "      <th></th>\n",
       "      <th>longitude</th>\n",
       "      <th>latitude</th>\n",
       "      <th>housing_median_age</th>\n",
       "      <th>total_rooms</th>\n",
       "      <th>total_bedrooms</th>\n",
       "      <th>population</th>\n",
       "      <th>households</th>\n",
       "      <th>median_income</th>\n",
       "      <th>ocean_proximity</th>\n",
       "      <th>median_house_value</th>\n",
       "    </tr>\n",
       "  </thead>\n",
       "  <tbody>\n",
       "    <tr>\n",
       "      <th>0</th>\n",
       "      <td>-122.23</td>\n",
       "      <td>37.88</td>\n",
       "      <td>41</td>\n",
       "      <td>880</td>\n",
       "      <td>129.0</td>\n",
       "      <td>322</td>\n",
       "      <td>126</td>\n",
       "      <td>8.3252</td>\n",
       "      <td>NEAR BAY</td>\n",
       "      <td>452600</td>\n",
       "    </tr>\n",
       "    <tr>\n",
       "      <th>1</th>\n",
       "      <td>-122.22</td>\n",
       "      <td>37.86</td>\n",
       "      <td>21</td>\n",
       "      <td>7099</td>\n",
       "      <td>1106.0</td>\n",
       "      <td>2401</td>\n",
       "      <td>1138</td>\n",
       "      <td>8.3014</td>\n",
       "      <td>NEAR BAY</td>\n",
       "      <td>358500</td>\n",
       "    </tr>\n",
       "    <tr>\n",
       "      <th>2</th>\n",
       "      <td>-122.24</td>\n",
       "      <td>37.85</td>\n",
       "      <td>52</td>\n",
       "      <td>1467</td>\n",
       "      <td>190.0</td>\n",
       "      <td>496</td>\n",
       "      <td>177</td>\n",
       "      <td>7.2574</td>\n",
       "      <td>NEAR BAY</td>\n",
       "      <td>352100</td>\n",
       "    </tr>\n",
       "    <tr>\n",
       "      <th>3</th>\n",
       "      <td>-122.25</td>\n",
       "      <td>37.85</td>\n",
       "      <td>52</td>\n",
       "      <td>1274</td>\n",
       "      <td>235.0</td>\n",
       "      <td>558</td>\n",
       "      <td>219</td>\n",
       "      <td>5.6431</td>\n",
       "      <td>NEAR BAY</td>\n",
       "      <td>341300</td>\n",
       "    </tr>\n",
       "    <tr>\n",
       "      <th>4</th>\n",
       "      <td>-122.25</td>\n",
       "      <td>37.85</td>\n",
       "      <td>52</td>\n",
       "      <td>1627</td>\n",
       "      <td>280.0</td>\n",
       "      <td>565</td>\n",
       "      <td>259</td>\n",
       "      <td>3.8462</td>\n",
       "      <td>NEAR BAY</td>\n",
       "      <td>342200</td>\n",
       "    </tr>\n",
       "  </tbody>\n",
       "</table>\n",
       "</div>"
      ],
      "text/plain": [
       "   longitude  latitude  housing_median_age  total_rooms  total_bedrooms  \\\n",
       "0    -122.23     37.88                  41          880           129.0   \n",
       "1    -122.22     37.86                  21         7099          1106.0   \n",
       "2    -122.24     37.85                  52         1467           190.0   \n",
       "3    -122.25     37.85                  52         1274           235.0   \n",
       "4    -122.25     37.85                  52         1627           280.0   \n",
       "\n",
       "   population  households  median_income ocean_proximity  median_house_value  \n",
       "0         322         126         8.3252        NEAR BAY              452600  \n",
       "1        2401        1138         8.3014        NEAR BAY              358500  \n",
       "2         496         177         7.2574        NEAR BAY              352100  \n",
       "3         558         219         5.6431        NEAR BAY              341300  \n",
       "4         565         259         3.8462        NEAR BAY              342200  "
      ]
     },
     "execution_count": 1,
     "metadata": {},
     "output_type": "execute_result"
    }
   ],
   "source": [
    "import matplotlib.pyplot as plt\n",
    "import pandas as pd\n",
    "import scipy.stats as st\n",
    "\n",
    "ca_housing_path = \"Resources/CA_Housing_Data.csv\"\n",
    "\n",
    "ca_housing_data = pd.read_csv(ca_housing_path)\n",
    "\n",
    "ca_housing_data.head()\n"
   ]
  },
  {
   "cell_type": "code",
   "execution_count": 2,
   "metadata": {},
   "outputs": [
    {
     "name": "stdout",
     "output_type": "stream",
     "text": [
      "1354.0086531226486\n",
      "1230.3174672489083\n",
      "1391.0462524805373\n",
      "1520.2904991243433\n",
      "668.0\n"
     ]
    }
   ],
   "source": [
    "Near_Bay_Pop = ca_housing_data.loc[ca_housing_data[\"ocean_proximity\"] == \"NEAR BAY\", \"population\"].mean()\n",
    "Inland_Pop = ca_housing_data.loc[ca_housing_data[\"ocean_proximity\"] == \"INLAND\", \"population\"].mean()\n",
    "Under_Hour_Pop = ca_housing_data.loc[ca_housing_data[\"ocean_proximity\"] == \"<1H OCEAN\", \"population\"].mean()\n",
    "Near_Ocean_Pop = ca_housing_data.loc[ca_housing_data[\"ocean_proximity\"] == \"NEAR OCEAN\", \"population\"].mean()\n",
    "Island_pop = ca_housing_data.loc[ca_housing_data[\"ocean_proximity\"] == \"ISLAND\", \"population\"].mean()\n",
    "\n",
    "print(Near_Ocean_Pop)\n",
    "print(Near_Bay_Pop)\n",
    "print(Inland_Pop)\n",
    "print(Under_Hour_Pop)\n",
    "print(Island_pop)"
   ]
  },
  {
   "cell_type": "code",
   "execution_count": 19,
   "metadata": {},
   "outputs": [
    {
     "name": "stdout",
     "output_type": "stream",
     "text": [
      "ISLAND's potential outliers: []\n",
      "NEAR OCEAN's potential outliers: [3546, 2907, 2931, 3030, 2994, 2951, 3010, 3625, 3916, 3002, 3543, 3744, 2924, 3018, 3580, 3940, 4812, 3184, 3068, 3087, 3891, 3333, 4168, 4649, 4713, 4474, 6897, 3392, 3176, 9873, 12873, 4054, 5175, 3108, 3083, 3438, 3033, 3555, 3868, 3280, 3727, 7302, 2945, 3031, 3093, 6303, 7604, 7301, 3784, 2961, 3009, 3102, 3122, 3185, 3174, 5176, 3148, 3284, 3293, 4451, 4797, 3662, 3675, 3127, 3261, 3222, 3123, 3795, 5094, 3002, 3073, 4771, 4495, 7985, 3159, 3269, 3280, 3020, 3898, 5613, 4194, 4496, 4773, 5495, 2904, 4163, 4729, 3015, 6666, 8738, 4127, 2983, 3760, 10877, 3335, 3097, 3574, 6532, 4375, 2923, 3477, 3320, 3752, 3226, 3861, 3288, 2941, 4101, 3444, 5130, 5023, 4674, 6160, 3783, 3004, 4790, 3169, 6266, 3107, 4124, 3571, 3057, 3081, 3502, 5467, 12427, 5723, 7174, 4731, 3416, 3018, 2954, 3982, 3012, 4647, 7132, 3504, 3171, 3327, 6370, 4818, 3295, 3490, 2986, 3310, 5534, 4066, 3129, 6242, 6437, 5558, 2965, 3700, 6187]\n",
      "NEAR BAY's potential outliers: [3469, 2689, 4367, 2813, 4985, 2736, 3337, 3276, 3100, 3668, 3741, 2930, 7427, 2973, 2974, 2690, 5781, 2723, 2999, 3827, 3827, 2667, 3069, 5613, 4065, 5436, 3388, 3174, 3163, 8117, 8012, 3436, 5019, 4576, 6075, 7205, 2841, 4446, 4319, 2998, 3526, 3038, 3221, 4377, 2940, 3748, 2959, 3621, 2804, 2957, 4741, 3645, 2669, 3264, 3486, 4083, 2865, 3371, 3596, 2805, 3326, 7266, 3637, 3259, 3408, 5600, 4406, 4684, 6109, 5162, 3063, 3798, 2962, 5917, 3450, 2980, 2755, 3895, 2756, 2768, 3864, 2957, 3260, 3436, 4518, 4531, 2818, 3269, 2987, 3134, 2722, 4737, 3900, 4715, 3549, 3399, 3484, 3437, 5380, 3091, 2909, 2678, 4165, 2756, 7273, 3025, 2699, 2764, 2687, 7604, 3840, 6456, 4361, 3205, 2920, 7025, 2957, 3124, 2830, 3928, 5008, 4163, 2824, 2876, 8276, 4620, 3193, 2808]\n",
      "<1H OCEAN's potential outliers: [4518, 3386, 4649, 4552, 12203, 3571, 3386, 3926, 4089, 5613, 3565, 3540, 3963, 3566, 6161, 3444, 3663, 3568, 4205, 3473, 3401, 3988, 3468, 3517, 4717, 3561, 4483, 3562, 4178, 3903, 5005, 4459, 4992, 4579, 9135, 5349, 4718, 7096, 4620, 4625, 3781, 7307, 3911, 3950, 3483, 3351, 3403, 3847, 4031, 3618, 3809, 4826, 3350, 4876, 4126, 3739, 7282, 4642, 5105, 4404, 4100, 3687, 7450, 4076, 3599, 3585, 4153, 4336, 3348, 3895, 3596, 4123, 4828, 5899, 4865, 3432, 3953, 3441, 3548, 3906, 3678, 3646, 4332, 3974, 7221, 3915, 3723, 3707, 3795, 3920, 7443, 4533, 3727, 5840, 6846, 4137, 3906, 3468, 3720, 4225, 3480, 5229, 4126, 3359, 3612, 3538, 3707, 3511, 3731, 3646, 3806, 3751, 3870, 3390, 3397, 3335, 3586, 3408, 3738, 3732, 6270, 3591, 4426, 4336, 5459, 3401, 4116, 4486, 4094, 3749, 5217, 4757, 4293, 8686, 15507, 4911, 4332, 9427, 8380, 9671, 15037, 3671, 4904, 3359, 4419, 4797, 3563, 3426, 3883, 3899, 4580, 6652, 5278, 4429, 3394, 3881, 4349, 8997, 5587, 3738, 5325, 4027, 3538, 3912, 3727, 3527, 8907, 7732, 10988, 7228, 4014, 4983, 4119, 3537, 3481, 3775, 3818, 3792, 5041, 4353, 4210, 3518, 3620, 3985, 4945, 3496, 3816, 3817, 3485, 3842, 3836, 5279, 3909, 4582, 3558, 5027, 3803, 3740, 8551, 3559, 3731, 3913, 4496, 3649, 3423, 4551, 3702, 4145, 3944, 5237, 4721, 3704, 4558, 3887, 3680, 3993, 4185, 3728, 4753, 3792, 4673, 4516, 3637, 4149, 4196, 5162, 4396, 3844, 4276, 5026, 4367, 3841, 3412, 3868, 4066, 4015, 3425, 3456, 4033, 3533, 4512, 3340, 7429, 7211, 3590, 5546, 7180, 6664, 5272, 3420, 4458, 3922, 7431, 5127, 5452, 6214, 10475, 4956, 7270, 3733, 7030, 4453, 9842, 3384, 4768, 9936, 6902, 3789, 3445, 3594, 3595, 4907, 6012, 3456, 11272, 4259, 3523, 7249, 12153, 3918, 5982, 4601, 3612, 28566, 6071, 3794, 3562, 3853, 3946, 3521, 3822, 16122, 4160, 4005, 4409, 4528, 4732, 4597, 3550, 6223, 3985, 4656, 4762, 4783, 4660, 3785, 4327, 6083, 3445, 4738, 5014, 3903, 4071, 3872, 4715, 5756, 5116, 5516, 3545, 3416, 3800, 6799, 3356, 5477, 3570, 4088, 4853, 3744, 3754, 3657, 5085, 7111, 4926, 3892, 3554, 3596, 4480, 3381, 4545, 5254, 4818, 3842, 3385, 4011, 3441, 4404, 3418, 3613, 4188, 3920, 5964, 9360, 3464, 7235, 4776, 3405, 7139, 9419, 7132, 8824, 13251, 3886, 5860, 10450, 4662, 6931, 3941, 5006, 7560, 8980, 4446, 3597, 6945, 4372, 3424, 3769, 3941, 6990, 4868, 7178, 4439, 3687, 7302, 5247, 4048, 4383, 6296, 6389, 4413, 4763, 3683, 6600, 3775, 7417, 4438, 7644, 4049, 4399, 35682, 9690, 3925, 3943, 5410, 3773, 4526, 5370, 6583, 4854, 7014, 4917, 4074, 5640, 3516, 3555, 5102, 4197, 5030, 6085, 4660, 4487, 3561, 6234, 3979, 4241, 4203, 4312, 7817, 3838, 3651, 5124, 6034, 6047, 3572, 4610, 8793, 3556, 8190, 3508, 3547, 4784, 4240, 6810, 3795, 3604, 3636, 4748, 3637, 3580, 3786, 3759, 3728, 3539, 3959, 3970, 3637, 4017, 3934, 5674, 4108, 3439, 3706, 3551, 3833, 4323, 3741, 3468, 3793, 4514, 3409, 4169, 4830, 4253, 6301, 4199, 3419, 5495, 3385, 3950, 6700, 11956]\n",
      "INLAND's potential outliers: [4847, 4389, 5826, 3200, 8768, 3489, 6693, 4930, 4644, 3628, 4030, 4591, 7517, 3316, 3264, 5022, 3175, 3266, 3578, 4460, 3523, 4276, 3838, 3207, 3266, 3325, 7653, 3898, 5001, 3952, 3530, 5034, 4179, 3786, 4749, 3573, 5561, 4476, 3406, 3407, 3415, 5466, 4638, 5226, 4432, 3535, 3565, 3242, 4781, 4584, 7009, 4250, 5696, 4870, 3278, 3525, 6241, 4611, 4101, 4893, 3269, 4163, 3415, 3260, 3500, 3571, 3617, 4631, 5666, 3450, 7679, 4198, 7665, 3710, 7249, 3699, 3460, 4723, 4944, 7775, 5407, 3575, 3205, 4369, 4952, 4711, 3502, 3367, 3712, 3537, 5389, 3339, 3878, 3538, 5359, 4131, 3689, 6666, 6626, 3528, 4614, 6163, 10493, 3489, 4562, 6291, 7694, 5731, 3723, 3569, 4098, 5839, 4892, 3427, 11973, 4970, 5871, 4546, 5391, 8152, 8721, 7087, 7158, 8733, 3840, 3589, 5303, 3967, 4205, 3200, 4276, 3264, 3868, 3667, 3526, 3507, 8361, 4445, 4819, 3369, 3928, 3565, 3570, 3185, 7540, 5913, 5008, 5810, 3996, 3266, 7600, 5205, 7305, 3754, 4285, 3795, 4861, 4936, 6295, 5271, 3887, 8222, 3240, 4976, 3716, 3823, 4636, 3450, 5650, 3382, 4218, 9851, 8805, 3710, 6763, 6780, 4573, 3962, 8437, 4885, 4520, 5804, 5595, 7596, 6686, 3513, 9509, 5439, 5155, 9623, 5145, 3665, 6159, 3136, 4002, 3141, 3559, 5060, 4266, 3297, 4122, 4274, 3470, 3189, 3623, 3838, 6274, 4176, 3581, 4086, 3811, 3497, 3208, 4571, 5525, 3157, 3779, 5032, 4042, 3873, 5682, 3424, 3362, 11935, 3759, 4224, 4828, 4769, 4333, 5656, 7235, 4749, 3960, 4224, 3517, 5692, 5634, 7919, 7463, 4147, 3455, 3789, 8652, 4251, 7608, 3237, 3576, 3153, 6068, 3339, 3358, 6000, 3166, 3275, 6675, 4583, 4438, 3857, 4885, 4674, 6544, 4951, 8656, 10329, 6578, 6002, 3422, 3139, 16305, 6474, 7343, 4861, 3690, 5718, 3841, 5110, 4249, 7766, 4436, 3819, 5499, 5669, 7363, 4308, 3954, 9716, 6443, 3360, 3455, 10323, 3359, 3182, 3845, 4028, 5804, 3567, 3388, 5690, 3310, 3527, 5820, 5221, 5020, 4052, 3156, 4048, 3208, 3204, 4862, 4115, 3253, 4775, 3615, 3528, 3157, 3533, 6640, 3255, 4916, 4523, 3688, 3502, 4092, 3630, 3780, 3264, 3204, 6080, 3431, 6852, 3767, 3220, 5146, 6133, 3489, 7588, 3804, 3660, 3527, 3883, 6716, 3515, 3166, 3213, 6835, 11139, 4507, 4166, 3562, 3201, 3771, 3440, 3785, 3343, 3327, 3378, 5935, 4189, 3670, 3907, 4402, 4168, 3575, 3704, 3866, 3176, 6511, 3196, 3237, 3238, 4010, 4390, 3927, 4508, 4758, 3570, 6657, 9879, 3481, 3664, 7460, 3182, 4095, 3419, 4356, 3559, 4827, 4449, 4656, 3622, 3265, 6420, 3227, 4722, 3221, 5807, 5372, 3909, 3294, 5087, 3814, 3196, 4479, 5633, 7984, 4071, 3717, 6330, 6837, 3265, 6912]\n"
     ]
    }
   ],
   "source": [
    "# Put proximities into a list for for loop (and later for plot labels)\n",
    "Ocean_Proximity = [\"ISLAND\", \"NEAR OCEAN\", \"NEAR BAY\", \"<1H OCEAN\", \"INLAND\"]\n",
    "Ocean_Proximity\n",
    "\n",
    "# Create empty list to fill with population data (for plotting)\n",
    "population_data= []\n",
    "\n",
    "# Calculate the IQR and quantitatively determine if there are any potential outliers.\n",
    "for proximity in Ocean_Proximity:\n",
    "\n",
    "     # Locate the rows which contain the population data for each category of ocean proximity\n",
    "    Population = ca_housing_data.loc[ca_housing_data[\"ocean_proximity\"] == proximity, \"population\"]\n",
    "    \n",
    "    quartiles = Population.quantile([.25,.5,.75])\n",
    "    lowerq = quartiles[0.25]\n",
    "    upperq = quartiles[0.75]\n",
    "    iqr = upperq-lowerq\n",
    "\n",
    "    # add subset\n",
    "    population_data.append(Population)\n",
    "\n",
    "    # Determine outliers using upper and lower bounds\n",
    "    \n",
    "    upper_bound = upperq + (1.5*iqr)\n",
    "    lower_bound = lowerq - (1.5*iqr)\n",
    "\n",
    "    outliers_population = Population[(Population < lower_bound) | (Population > upper_bound)]\n",
    "\n",
    "    print(f\"{proximity}'s potential outliers: {outliers_population.tolist()}\")"
   ]
  },
  {
   "cell_type": "code",
   "execution_count": 20,
   "metadata": {},
   "outputs": [
    {
     "data": {
      "image/png": "[encoded data removed]",
      "text/plain": [
       "<Figure size 640x480 with 1 Axes>"
      ]
     },
     "metadata": {},
     "output_type": "display_data"
    }
   ],
   "source": [
    "# Generate a box plot that shows the distribution of the tumor volume for each treatment group.\n",
    "fig1, ax1 = plt.subplots()\n",
    "\n",
    "ax1.set_ylabel('population')\n",
    "\n",
    "for proximity in Ocean_Proximity:\n",
    "    ax1.boxplot(population_data)\n",
    "\n",
    "ax1.set_xticks([1, 2, 3, 4, 5])\n",
    "ax1.set_xticklabels(Ocean_Proximity)\n",
    "plt.ylim(0, 3500)\n",
    "plt.title('Population Distribution for Ocean Proximity')\n",
    "plt.show()"
   ]
  }
 ],
 "metadata": {
  "kernelspec": {
   "display_name": "dev",
   "language": "python",
   "name": "python3"
  },
  "language_info": {
   "codemirror_mode": {
    "name": "ipython",
    "version": 3
   },
   "file_extension": ".py",
   "mimetype": "text/x-python",
   "name": "python",
   "nbconvert_exporter": "python",
   "pygments_lexer": "ipython3",
   "version": "3.10.16"
  }
 },
 "nbformat": 4,
 "nbformat_minor": 2
}
